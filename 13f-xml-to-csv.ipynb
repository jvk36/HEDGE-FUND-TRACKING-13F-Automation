{
 "cells": [
  {
   "cell_type": "code",
   "execution_count": 1,
   "metadata": {},
   "outputs": [
    {
     "name": "stdout",
     "output_type": "stream",
     "text": [
      "2\n"
     ]
    }
   ],
   "source": [
    "#*****************************************************************************************************\n",
    "#\n",
    "# 1. Download the 13F information table for each fund tracked as an XML file into this directory\n",
    "#    as input.xml.\n",
    "# 2. Edit Line 30 of this program as indicated in the line comment, if needed.\n",
    "# 3. Run this program to generate output.csv in the same directory. Save it into our fund-tracking\n",
    "#    directory. \n",
    "# 4. Open output.csv and our tracking spreadsheet in Excel. \n",
    "# 5. Update the tracking spreadsheet by copying the information from output.csv.\n",
    "#\n",
    "# NOTE: The 2nd line of input.xml may have to be edited to read \"<informationTable>\" as the parser\n",
    "#       runs into a problem with the sample below:\n",
    "#    <informationTable xmlns=\"http://www.sec.gov/edgar/document/thirteenf/informationtable\" xmlns:xsi=\"http://www.w3.org/2001/XMLSchema-instance\">\n",
    "#\n",
    "#*****************************************************************************************************\n",
    "\n",
    "# Importing the required libraries\n",
    "import xml.etree.ElementTree as Xet\n",
    "import pandas as pd\n",
    "  \n",
    "cols = [\"nameOfIssuer\", \"value\", \"sshPrnamt\"]\n",
    "rows = []\n",
    "  \n",
    "# Parsing the XML file\n",
    "xmlparse = Xet.parse('input.xml')\n",
    "# root = xmlparse.getroot()\n",
    "for i in xmlparse.findall(\"infoTable\"):\n",
    "    nameOfIssuer = i.find(\"nameOfIssuer\").text\n",
    "    # cusip = i.find(\"cusip\").text\n",
    "    value = int(i.find(\"value\").text) # * 1000 # comment or uncomment \"* 1000\" depending on the 13F data\n",
    "    j = i.find(\"shrsOrPrnAmt\")\n",
    "    sshPrnamt = int(j.find(\"sshPrnamt\").text)\n",
    "  \n",
    "    rows.append({\"nameOfIssuer\": nameOfIssuer,\n",
    "                 # \"cusip\": cusip,\n",
    "                 \"value\": value,\n",
    "                 \"sshPrnamt\": sshPrnamt})\n",
    "df = pd.DataFrame(rows, columns=cols)\n",
    "\n",
    "df = df.groupby(['nameOfIssuer'])[['value', 'sshPrnamt']].sum().reset_index()\n",
    "\n",
    "# Writing dataframe to csv\n",
    "df.to_csv('output.csv', header=False, index=False)\n",
    "print(2)\n"
   ]
  },
  {
   "cell_type": "code",
   "execution_count": null,
   "metadata": {},
   "outputs": [],
   "source": []
  }
 ],
 "metadata": {
  "kernelspec": {
   "display_name": "Python 3 (ipykernel)",
   "language": "python",
   "name": "python3"
  },
  "language_info": {
   "codemirror_mode": {
    "name": "ipython",
    "version": 3
   },
   "file_extension": ".py",
   "mimetype": "text/x-python",
   "name": "python",
   "nbconvert_exporter": "python",
   "pygments_lexer": "ipython3",
   "version": "3.11.5"
  }
 },
 "nbformat": 4,
 "nbformat_minor": 4
}
