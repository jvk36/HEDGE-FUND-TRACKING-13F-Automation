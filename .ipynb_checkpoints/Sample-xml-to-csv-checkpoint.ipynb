{
 "cells": [
  {
   "cell_type": "code",
   "execution_count": 1,
   "metadata": {},
   "outputs": [],
   "source": [
    "from xml.etree import ElementTree\n",
    "import csv\n",
    "\n",
    "# PARSE XML\n",
    "xml = ElementTree.parse(\"data.xml\")\n",
    "\n",
    "# CREATE CSV FILE\n",
    "csvfile = open(\"data.csv\",'w',encoding='utf-8')\n",
    "csvfile_writer = csv.writer(csvfile)\n",
    "\n",
    "# ADD THE HEADER TO CSV FILE\n",
    "csvfile_writer.writerow([\"name\",\"role\",\"age\"])\n",
    "\n",
    "# FOR EACH EMPLOYEE\n",
    "for employee in xml.findall(\"employee\"):\n",
    "    \n",
    "    if(employee):\n",
    "       \n",
    "       # EXTRACT EMPLOYEE DETAILS  \n",
    "      name = employee.find(\"name\")\n",
    "      role = employee.find(\"role\")\n",
    "      age = employee.find(\"age\")\n",
    "      csv_line = [name.text, role.text, age.text]\n",
    "\n",
    "      # ADD A NEW ROW TO CSV FILE\n",
    "      csvfile_writer.writerow(csv_line)\n",
    "csvfile.close()  "
   ]
  },
  {
   "cell_type": "code",
   "execution_count": null,
   "metadata": {},
   "outputs": [],
   "source": []
  }
 ],
 "metadata": {
  "kernelspec": {
   "display_name": "Python 3 (ipykernel)",
   "language": "python",
   "name": "python3"
  },
  "language_info": {
   "codemirror_mode": {
    "name": "ipython",
    "version": 3
   },
   "file_extension": ".py",
   "mimetype": "text/x-python",
   "name": "python",
   "nbconvert_exporter": "python",
   "pygments_lexer": "ipython3",
   "version": "3.8.16"
  }
 },
 "nbformat": 4,
 "nbformat_minor": 4
}
