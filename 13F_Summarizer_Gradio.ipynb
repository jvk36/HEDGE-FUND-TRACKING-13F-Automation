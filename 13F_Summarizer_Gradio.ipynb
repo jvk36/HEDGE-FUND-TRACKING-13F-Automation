{
 "cells": [
  {
   "cell_type": "markdown",
   "metadata": {},
   "source": [
    "## Gradio UI for 13F Report Summary Generation:"
   ]
  },
  {
   "cell_type": "code",
   "execution_count": 2,
   "metadata": {},
   "outputs": [
    {
     "name": "stdout",
     "output_type": "stream",
     "text": [
      "Requirement already satisfied: datasets in d:\\users\\asvar\\hedge-fund-tracking-13f-automation\\.env\\lib\\site-packages (2.14.5)\n",
      "Requirement already satisfied: evaluate in d:\\users\\asvar\\hedge-fund-tracking-13f-automation\\.env\\lib\\site-packages (0.4.0)\n",
      "Requirement already satisfied: transformers[sentencepiece] in d:\\users\\asvar\\hedge-fund-tracking-13f-automation\\.env\\lib\\site-packages (4.33.2)\n",
      "Requirement already satisfied: numpy>=1.17 in d:\\users\\asvar\\hedge-fund-tracking-13f-automation\\.env\\lib\\site-packages (from datasets) (1.26.0)\n",
      "Requirement already satisfied: pyarrow>=8.0.0 in d:\\users\\asvar\\hedge-fund-tracking-13f-automation\\.env\\lib\\site-packages (from datasets) (13.0.0)\n",
      "Requirement already satisfied: dill<0.3.8,>=0.3.0 in d:\\users\\asvar\\hedge-fund-tracking-13f-automation\\.env\\lib\\site-packages (from datasets) (0.3.7)\n",
      "Requirement already satisfied: pandas in d:\\users\\asvar\\hedge-fund-tracking-13f-automation\\.env\\lib\\site-packages (from datasets) (2.1.1)\n",
      "Requirement already satisfied: requests>=2.19.0 in d:\\users\\asvar\\hedge-fund-tracking-13f-automation\\.env\\lib\\site-packages (from datasets) (2.31.0)\n",
      "Requirement already satisfied: tqdm>=4.62.1 in d:\\users\\asvar\\hedge-fund-tracking-13f-automation\\.env\\lib\\site-packages (from datasets) (4.66.1)\n",
      "Requirement already satisfied: xxhash in d:\\users\\asvar\\hedge-fund-tracking-13f-automation\\.env\\lib\\site-packages (from datasets) (3.3.0)\n",
      "Requirement already satisfied: multiprocess in d:\\users\\asvar\\hedge-fund-tracking-13f-automation\\.env\\lib\\site-packages (from datasets) (0.70.15)\n",
      "Requirement already satisfied: fsspec[http]<2023.9.0,>=2023.1.0 in d:\\users\\asvar\\hedge-fund-tracking-13f-automation\\.env\\lib\\site-packages (from datasets) (2023.6.0)\n",
      "Requirement already satisfied: aiohttp in d:\\users\\asvar\\hedge-fund-tracking-13f-automation\\.env\\lib\\site-packages (from datasets) (3.8.5)\n",
      "Requirement already satisfied: huggingface-hub<1.0.0,>=0.14.0 in d:\\users\\asvar\\hedge-fund-tracking-13f-automation\\.env\\lib\\site-packages (from datasets) (0.17.2)\n",
      "Requirement already satisfied: packaging in d:\\users\\asvar\\hedge-fund-tracking-13f-automation\\.env\\lib\\site-packages (from datasets) (23.1)\n",
      "Requirement already satisfied: pyyaml>=5.1 in d:\\users\\asvar\\hedge-fund-tracking-13f-automation\\.env\\lib\\site-packages (from datasets) (6.0.1)\n",
      "Requirement already satisfied: responses<0.19 in d:\\users\\asvar\\hedge-fund-tracking-13f-automation\\.env\\lib\\site-packages (from evaluate) (0.18.0)\n",
      "Requirement already satisfied: filelock in d:\\users\\asvar\\hedge-fund-tracking-13f-automation\\.env\\lib\\site-packages (from transformers[sentencepiece]) (3.12.4)\n",
      "Requirement already satisfied: regex!=2019.12.17 in d:\\users\\asvar\\hedge-fund-tracking-13f-automation\\.env\\lib\\site-packages (from transformers[sentencepiece]) (2023.8.8)\n",
      "Requirement already satisfied: tokenizers!=0.11.3,<0.14,>=0.11.1 in d:\\users\\asvar\\hedge-fund-tracking-13f-automation\\.env\\lib\\site-packages (from transformers[sentencepiece]) (0.13.3)\n",
      "Requirement already satisfied: safetensors>=0.3.1 in d:\\users\\asvar\\hedge-fund-tracking-13f-automation\\.env\\lib\\site-packages (from transformers[sentencepiece]) (0.3.3)\n",
      "Requirement already satisfied: sentencepiece!=0.1.92,>=0.1.91 in d:\\users\\asvar\\hedge-fund-tracking-13f-automation\\.env\\lib\\site-packages (from transformers[sentencepiece]) (0.1.99)\n",
      "Requirement already satisfied: protobuf in d:\\users\\asvar\\hedge-fund-tracking-13f-automation\\.env\\lib\\site-packages (from transformers[sentencepiece]) (4.24.3)\n",
      "Requirement already satisfied: attrs>=17.3.0 in d:\\users\\asvar\\hedge-fund-tracking-13f-automation\\.env\\lib\\site-packages (from aiohttp->datasets) (23.1.0)\n",
      "Requirement already satisfied: charset-normalizer<4.0,>=2.0 in d:\\users\\asvar\\hedge-fund-tracking-13f-automation\\.env\\lib\\site-packages (from aiohttp->datasets) (3.2.0)\n",
      "Requirement already satisfied: multidict<7.0,>=4.5 in d:\\users\\asvar\\hedge-fund-tracking-13f-automation\\.env\\lib\\site-packages (from aiohttp->datasets) (6.0.4)\n",
      "Requirement already satisfied: async-timeout<5.0,>=4.0.0a3 in d:\\users\\asvar\\hedge-fund-tracking-13f-automation\\.env\\lib\\site-packages (from aiohttp->datasets) (4.0.3)\n",
      "Requirement already satisfied: yarl<2.0,>=1.0 in d:\\users\\asvar\\hedge-fund-tracking-13f-automation\\.env\\lib\\site-packages (from aiohttp->datasets) (1.9.2)\n",
      "Requirement already satisfied: frozenlist>=1.1.1 in d:\\users\\asvar\\hedge-fund-tracking-13f-automation\\.env\\lib\\site-packages (from aiohttp->datasets) (1.4.0)\n",
      "Requirement already satisfied: aiosignal>=1.1.2 in d:\\users\\asvar\\hedge-fund-tracking-13f-automation\\.env\\lib\\site-packages (from aiohttp->datasets) (1.3.1)\n",
      "Requirement already satisfied: typing-extensions>=3.7.4.3 in d:\\users\\asvar\\hedge-fund-tracking-13f-automation\\.env\\lib\\site-packages (from huggingface-hub<1.0.0,>=0.14.0->datasets) (4.8.0)\n",
      "Requirement already satisfied: idna<4,>=2.5 in d:\\users\\asvar\\hedge-fund-tracking-13f-automation\\.env\\lib\\site-packages (from requests>=2.19.0->datasets) (3.4)\n",
      "Requirement already satisfied: urllib3<3,>=1.21.1 in d:\\users\\asvar\\hedge-fund-tracking-13f-automation\\.env\\lib\\site-packages (from requests>=2.19.0->datasets) (2.0.5)\n",
      "Requirement already satisfied: certifi>=2017.4.17 in d:\\users\\asvar\\hedge-fund-tracking-13f-automation\\.env\\lib\\site-packages (from requests>=2.19.0->datasets) (2023.7.22)\n",
      "Requirement already satisfied: colorama in d:\\users\\asvar\\hedge-fund-tracking-13f-automation\\.env\\lib\\site-packages (from tqdm>=4.62.1->datasets) (0.4.6)\n",
      "Requirement already satisfied: python-dateutil>=2.8.2 in d:\\users\\asvar\\hedge-fund-tracking-13f-automation\\.env\\lib\\site-packages (from pandas->datasets) (2.8.2)\n",
      "Requirement already satisfied: pytz>=2020.1 in d:\\users\\asvar\\hedge-fund-tracking-13f-automation\\.env\\lib\\site-packages (from pandas->datasets) (2023.3.post1)\n",
      "Requirement already satisfied: tzdata>=2022.1 in d:\\users\\asvar\\hedge-fund-tracking-13f-automation\\.env\\lib\\site-packages (from pandas->datasets) (2023.3)\n",
      "Requirement already satisfied: six>=1.5 in d:\\users\\asvar\\hedge-fund-tracking-13f-automation\\.env\\lib\\site-packages (from python-dateutil>=2.8.2->pandas->datasets) (1.16.0)\n",
      "Note: you may need to restart the kernel to use updated packages.\n",
      "Collecting gradio\n",
      "  Obtaining dependency information for gradio from https://files.pythonhosted.org/packages/05/f2/360ca9546cffa45fee1df56864fdc2b6955de622e98435539490cd882a96/gradio-3.47.1-py3-none-any.whl.metadata\n",
      "  Downloading gradio-3.47.1-py3-none-any.whl.metadata (17 kB)\n",
      "Collecting aiofiles<24.0,>=22.0 (from gradio)\n",
      "  Obtaining dependency information for aiofiles<24.0,>=22.0 from https://files.pythonhosted.org/packages/c5/19/5af6804c4cc0fed83f47bff6e413a98a36618e7d40185cd36e69737f3b0e/aiofiles-23.2.1-py3-none-any.whl.metadata\n",
      "  Using cached aiofiles-23.2.1-py3-none-any.whl.metadata (9.7 kB)\n",
      "Collecting altair<6.0,>=4.2.0 (from gradio)\n",
      "  Obtaining dependency information for altair<6.0,>=4.2.0 from https://files.pythonhosted.org/packages/17/16/b12fca347ff9d062e3c44ad9641d2ec50364570a059f3078ada3a5119d7a/altair-5.1.2-py3-none-any.whl.metadata\n",
      "  Using cached altair-5.1.2-py3-none-any.whl.metadata (8.6 kB)\n",
      "Collecting fastapi (from gradio)\n",
      "  Obtaining dependency information for fastapi from https://files.pythonhosted.org/packages/4d/d2/3ad038a2365fefbac19d9a046cab7ce45f4c7bfa81d877cbece9707de9ce/fastapi-0.103.2-py3-none-any.whl.metadata\n",
      "  Using cached fastapi-0.103.2-py3-none-any.whl.metadata (24 kB)\n",
      "Collecting ffmpy (from gradio)\n",
      "  Using cached ffmpy-0.3.1-py3-none-any.whl\n",
      "Collecting gradio-client==0.6.0 (from gradio)\n",
      "  Obtaining dependency information for gradio-client==0.6.0 from https://files.pythonhosted.org/packages/9f/dd/db8dcc8521aa475a18a562929de0806819f8fa73ee8654d2cc22c836c3bd/gradio_client-0.6.0-py3-none-any.whl.metadata\n",
      "  Downloading gradio_client-0.6.0-py3-none-any.whl.metadata (7.1 kB)\n",
      "Collecting httpx (from gradio)\n",
      "  Obtaining dependency information for httpx from https://files.pythonhosted.org/packages/33/0d/d9ce469af019741c8999711d36b270ff992ceb1a0293f73f9f34fdf131e9/httpx-0.25.0-py3-none-any.whl.metadata\n",
      "  Using cached httpx-0.25.0-py3-none-any.whl.metadata (7.6 kB)\n",
      "Requirement already satisfied: huggingface-hub>=0.14.0 in d:\\users\\asvar\\hedge-fund-tracking-13f-automation\\.env\\lib\\site-packages (from gradio) (0.17.2)\n",
      "Collecting importlib-resources<7.0,>=1.3 (from gradio)\n",
      "  Obtaining dependency information for importlib-resources<7.0,>=1.3 from https://files.pythonhosted.org/packages/65/6e/09d8816b5cb7a4006ef8ad1717a2703ad9f331dae9717d9f22488a2d6469/importlib_resources-6.1.0-py3-none-any.whl.metadata\n",
      "  Using cached importlib_resources-6.1.0-py3-none-any.whl.metadata (4.1 kB)\n",
      "Requirement already satisfied: jinja2<4.0 in d:\\users\\asvar\\hedge-fund-tracking-13f-automation\\.env\\lib\\site-packages (from gradio) (3.1.2)\n",
      "Requirement already satisfied: markupsafe~=2.0 in d:\\users\\asvar\\hedge-fund-tracking-13f-automation\\.env\\lib\\site-packages (from gradio) (2.1.3)\n",
      "Collecting matplotlib~=3.0 (from gradio)\n",
      "  Obtaining dependency information for matplotlib~=3.0 from https://files.pythonhosted.org/packages/40/d9/c1784db9db0d484c8e5deeafbaac0d6ed66e165c6eb4a74fb43a5fa947d9/matplotlib-3.8.0-cp311-cp311-win_amd64.whl.metadata\n",
      "  Using cached matplotlib-3.8.0-cp311-cp311-win_amd64.whl.metadata (5.9 kB)\n",
      "Requirement already satisfied: numpy~=1.0 in d:\\users\\asvar\\hedge-fund-tracking-13f-automation\\.env\\lib\\site-packages (from gradio) (1.26.0)\n",
      "Collecting orjson~=3.0 (from gradio)\n",
      "  Obtaining dependency information for orjson~=3.0 from https://files.pythonhosted.org/packages/b9/60/ffd1debfd00391693922aa998ddadf0cdea73a5f7465a54a29e122d1102b/orjson-3.9.7-cp311-none-win_amd64.whl.metadata\n",
      "  Using cached orjson-3.9.7-cp311-none-win_amd64.whl.metadata (50 kB)\n",
      "Requirement already satisfied: packaging in d:\\users\\asvar\\hedge-fund-tracking-13f-automation\\.env\\lib\\site-packages (from gradio) (23.1)\n",
      "Requirement already satisfied: pandas<3.0,>=1.0 in d:\\users\\asvar\\hedge-fund-tracking-13f-automation\\.env\\lib\\site-packages (from gradio) (2.1.1)\n",
      "Collecting pillow<11.0,>=8.0 (from gradio)\n",
      "  Obtaining dependency information for pillow<11.0,>=8.0 from https://files.pythonhosted.org/packages/54/9b/debe992677af84859ec1e38777b1d5c0671918188324153ecbc1f16f6cb6/Pillow-10.0.1-cp311-cp311-win_amd64.whl.metadata\n",
      "  Using cached Pillow-10.0.1-cp311-cp311-win_amd64.whl.metadata (9.6 kB)\n",
      "Collecting pydantic!=1.8,!=1.8.1,!=2.0.0,!=2.0.1,<3.0.0,>=1.7.4 (from gradio)\n",
      "  Obtaining dependency information for pydantic!=1.8,!=1.8.1,!=2.0.0,!=2.0.1,<3.0.0,>=1.7.4 from https://files.pythonhosted.org/packages/73/66/0a72c9fcde42e5650c8d8d5c5c1873b9a3893018020c77ca8eb62708b923/pydantic-2.4.2-py3-none-any.whl.metadata\n",
      "  Using cached pydantic-2.4.2-py3-none-any.whl.metadata (158 kB)\n",
      "Collecting pydub (from gradio)\n",
      "  Using cached pydub-0.25.1-py2.py3-none-any.whl (32 kB)\n",
      "Collecting python-multipart (from gradio)\n",
      "  Using cached python_multipart-0.0.6-py3-none-any.whl (45 kB)\n",
      "Requirement already satisfied: pyyaml<7.0,>=5.0 in d:\\users\\asvar\\hedge-fund-tracking-13f-automation\\.env\\lib\\site-packages (from gradio) (6.0.1)\n",
      "Requirement already satisfied: requests~=2.0 in d:\\users\\asvar\\hedge-fund-tracking-13f-automation\\.env\\lib\\site-packages (from gradio) (2.31.0)\n",
      "Collecting semantic-version~=2.0 (from gradio)\n",
      "  Using cached semantic_version-2.10.0-py2.py3-none-any.whl (15 kB)\n",
      "Requirement already satisfied: typing-extensions~=4.0 in d:\\users\\asvar\\hedge-fund-tracking-13f-automation\\.env\\lib\\site-packages (from gradio) (4.8.0)\n",
      "Collecting uvicorn>=0.14.0 (from gradio)\n",
      "  Obtaining dependency information for uvicorn>=0.14.0 from https://files.pythonhosted.org/packages/79/96/b0882a1c3f7ef3dd86879e041212ae5b62b4bd352320889231cc735a8e8f/uvicorn-0.23.2-py3-none-any.whl.metadata\n",
      "  Using cached uvicorn-0.23.2-py3-none-any.whl.metadata (6.2 kB)\n",
      "Collecting websockets<12.0,>=10.0 (from gradio)\n",
      "  Using cached websockets-11.0.3-cp311-cp311-win_amd64.whl (124 kB)\n",
      "Requirement already satisfied: fsspec in d:\\users\\asvar\\hedge-fund-tracking-13f-automation\\.env\\lib\\site-packages (from gradio-client==0.6.0->gradio) (2023.6.0)\n",
      "Collecting jsonschema>=3.0 (from altair<6.0,>=4.2.0->gradio)\n",
      "  Obtaining dependency information for jsonschema>=3.0 from https://files.pythonhosted.org/packages/0f/bf/a84bc75f069f4f156e1c0d9892fb7325945106c6ecaad9f29d24360872af/jsonschema-4.19.1-py3-none-any.whl.metadata\n",
      "  Using cached jsonschema-4.19.1-py3-none-any.whl.metadata (7.9 kB)\n",
      "Collecting toolz (from altair<6.0,>=4.2.0->gradio)\n",
      "  Using cached toolz-0.12.0-py3-none-any.whl (55 kB)\n",
      "Requirement already satisfied: filelock in d:\\users\\asvar\\hedge-fund-tracking-13f-automation\\.env\\lib\\site-packages (from huggingface-hub>=0.14.0->gradio) (3.12.4)\n",
      "Requirement already satisfied: tqdm>=4.42.1 in d:\\users\\asvar\\hedge-fund-tracking-13f-automation\\.env\\lib\\site-packages (from huggingface-hub>=0.14.0->gradio) (4.66.1)\n",
      "Collecting contourpy>=1.0.1 (from matplotlib~=3.0->gradio)\n",
      "  Obtaining dependency information for contourpy>=1.0.1 from https://files.pythonhosted.org/packages/e5/76/94bc17eb868f8c7397f8fdfdeae7661c1b9a35f3a7219da308596e8c252a/contourpy-1.1.1-cp311-cp311-win_amd64.whl.metadata\n",
      "  Using cached contourpy-1.1.1-cp311-cp311-win_amd64.whl.metadata (5.9 kB)\n",
      "Collecting cycler>=0.10 (from matplotlib~=3.0->gradio)\n",
      "  Obtaining dependency information for cycler>=0.10 from https://files.pythonhosted.org/packages/2b/b3/70c33027c4918c10ccf176014b38f8b91cb18ac018a78854543a4fc72609/cycler-0.12.0-py3-none-any.whl.metadata\n",
      "  Using cached cycler-0.12.0-py3-none-any.whl.metadata (3.8 kB)\n",
      "Collecting fonttools>=4.22.0 (from matplotlib~=3.0->gradio)\n",
      "  Obtaining dependency information for fonttools>=4.22.0 from https://files.pythonhosted.org/packages/ae/f6/724d2d236797ea7479a5a7ec8e69c2bee60cad70273cf25078810415ae2d/fonttools-4.43.1-cp311-cp311-win_amd64.whl.metadata\n",
      "  Downloading fonttools-4.43.1-cp311-cp311-win_amd64.whl.metadata (155 kB)\n",
      "     ---------------------------------------- 0.0/155.5 kB ? eta -:--:--\n",
      "     -- ------------------------------------- 10.2/155.5 kB ? eta -:--:--\n",
      "     --------------------------- ---------- 112.6/155.5 kB 1.6 MB/s eta 0:00:01\n",
      "     -------------------------------------- 155.5/155.5 kB 1.5 MB/s eta 0:00:00\n",
      "Collecting kiwisolver>=1.0.1 (from matplotlib~=3.0->gradio)\n",
      "  Obtaining dependency information for kiwisolver>=1.0.1 from https://files.pythonhosted.org/packages/1e/37/d3c2d4ba2719059a0f12730947bbe1ad5ee8bff89e8c35319dcb2c9ddb4c/kiwisolver-1.4.5-cp311-cp311-win_amd64.whl.metadata\n",
      "  Using cached kiwisolver-1.4.5-cp311-cp311-win_amd64.whl.metadata (6.5 kB)\n",
      "Collecting pyparsing>=2.3.1 (from matplotlib~=3.0->gradio)\n",
      "  Obtaining dependency information for pyparsing>=2.3.1 from https://files.pythonhosted.org/packages/39/92/8486ede85fcc088f1b3dba4ce92dd29d126fd96b0008ea213167940a2475/pyparsing-3.1.1-py3-none-any.whl.metadata\n",
      "  Using cached pyparsing-3.1.1-py3-none-any.whl.metadata (5.1 kB)\n",
      "Requirement already satisfied: python-dateutil>=2.7 in d:\\users\\asvar\\hedge-fund-tracking-13f-automation\\.env\\lib\\site-packages (from matplotlib~=3.0->gradio) (2.8.2)\n",
      "Requirement already satisfied: pytz>=2020.1 in d:\\users\\asvar\\hedge-fund-tracking-13f-automation\\.env\\lib\\site-packages (from pandas<3.0,>=1.0->gradio) (2023.3.post1)\n",
      "Requirement already satisfied: tzdata>=2022.1 in d:\\users\\asvar\\hedge-fund-tracking-13f-automation\\.env\\lib\\site-packages (from pandas<3.0,>=1.0->gradio) (2023.3)\n",
      "Collecting annotated-types>=0.4.0 (from pydantic!=1.8,!=1.8.1,!=2.0.0,!=2.0.1,<3.0.0,>=1.7.4->gradio)\n",
      "  Obtaining dependency information for annotated-types>=0.4.0 from https://files.pythonhosted.org/packages/28/78/d31230046e58c207284c6b2c4e8d96e6d3cb4e52354721b944d3e1ee4aa5/annotated_types-0.6.0-py3-none-any.whl.metadata\n",
      "  Downloading annotated_types-0.6.0-py3-none-any.whl.metadata (12 kB)\n",
      "Collecting pydantic-core==2.10.1 (from pydantic!=1.8,!=1.8.1,!=2.0.0,!=2.0.1,<3.0.0,>=1.7.4->gradio)\n",
      "  Obtaining dependency information for pydantic-core==2.10.1 from https://files.pythonhosted.org/packages/7c/49/bd863a3d7c5412d739f3a28da0f437f25ccfa92413675c93412e64b812ed/pydantic_core-2.10.1-cp311-none-win_amd64.whl.metadata\n",
      "  Using cached pydantic_core-2.10.1-cp311-none-win_amd64.whl.metadata (6.6 kB)\n",
      "Requirement already satisfied: charset-normalizer<4,>=2 in d:\\users\\asvar\\hedge-fund-tracking-13f-automation\\.env\\lib\\site-packages (from requests~=2.0->gradio) (3.2.0)\n",
      "Requirement already satisfied: idna<4,>=2.5 in d:\\users\\asvar\\hedge-fund-tracking-13f-automation\\.env\\lib\\site-packages (from requests~=2.0->gradio) (3.4)\n",
      "Requirement already satisfied: urllib3<3,>=1.21.1 in d:\\users\\asvar\\hedge-fund-tracking-13f-automation\\.env\\lib\\site-packages (from requests~=2.0->gradio) (2.0.5)\n",
      "Requirement already satisfied: certifi>=2017.4.17 in d:\\users\\asvar\\hedge-fund-tracking-13f-automation\\.env\\lib\\site-packages (from requests~=2.0->gradio) (2023.7.22)\n",
      "Collecting click>=7.0 (from uvicorn>=0.14.0->gradio)\n",
      "  Obtaining dependency information for click>=7.0 from https://files.pythonhosted.org/packages/00/2e/d53fa4befbf2cfa713304affc7ca780ce4fc1fd8710527771b58311a3229/click-8.1.7-py3-none-any.whl.metadata\n",
      "  Using cached click-8.1.7-py3-none-any.whl.metadata (3.0 kB)\n",
      "Collecting h11>=0.8 (from uvicorn>=0.14.0->gradio)\n",
      "  Using cached h11-0.14.0-py3-none-any.whl (58 kB)\n",
      "Collecting anyio<4.0.0,>=3.7.1 (from fastapi->gradio)\n",
      "  Obtaining dependency information for anyio<4.0.0,>=3.7.1 from https://files.pythonhosted.org/packages/19/24/44299477fe7dcc9cb58d0a57d5a7588d6af2ff403fdd2d47a246c91a3246/anyio-3.7.1-py3-none-any.whl.metadata\n",
      "  Using cached anyio-3.7.1-py3-none-any.whl.metadata (4.7 kB)\n",
      "Collecting starlette<0.28.0,>=0.27.0 (from fastapi->gradio)\n",
      "  Obtaining dependency information for starlette<0.28.0,>=0.27.0 from https://files.pythonhosted.org/packages/58/f8/e2cca22387965584a409795913b774235752be4176d276714e15e1a58884/starlette-0.27.0-py3-none-any.whl.metadata\n",
      "  Using cached starlette-0.27.0-py3-none-any.whl.metadata (5.8 kB)\n",
      "Collecting httpcore<0.19.0,>=0.18.0 (from httpx->gradio)\n",
      "  Obtaining dependency information for httpcore<0.19.0,>=0.18.0 from https://files.pythonhosted.org/packages/ac/97/724afbb7925339f6214bf1fdb5714d1a462690466832bf8fb3fd497649f1/httpcore-0.18.0-py3-none-any.whl.metadata\n",
      "  Using cached httpcore-0.18.0-py3-none-any.whl.metadata (18 kB)\n",
      "Collecting sniffio (from httpx->gradio)\n",
      "  Using cached sniffio-1.3.0-py3-none-any.whl (10 kB)\n",
      "Requirement already satisfied: colorama in d:\\users\\asvar\\hedge-fund-tracking-13f-automation\\.env\\lib\\site-packages (from click>=7.0->uvicorn>=0.14.0->gradio) (0.4.6)\n",
      "Requirement already satisfied: attrs>=22.2.0 in d:\\users\\asvar\\hedge-fund-tracking-13f-automation\\.env\\lib\\site-packages (from jsonschema>=3.0->altair<6.0,>=4.2.0->gradio) (23.1.0)\n",
      "Collecting jsonschema-specifications>=2023.03.6 (from jsonschema>=3.0->altair<6.0,>=4.2.0->gradio)\n",
      "  Obtaining dependency information for jsonschema-specifications>=2023.03.6 from https://files.pythonhosted.org/packages/1c/24/83349ac2189cc2435e84da3f69ba3c97314d3c0622628e55171c6798ed80/jsonschema_specifications-2023.7.1-py3-none-any.whl.metadata\n",
      "  Using cached jsonschema_specifications-2023.7.1-py3-none-any.whl.metadata (2.8 kB)\n",
      "Collecting referencing>=0.28.4 (from jsonschema>=3.0->altair<6.0,>=4.2.0->gradio)\n",
      "  Obtaining dependency information for referencing>=0.28.4 from https://files.pythonhosted.org/packages/be/8e/56d6f1e2d591f4d6cbcba446cac4a1b0dc4f584537e2071d9bcee8eeab6b/referencing-0.30.2-py3-none-any.whl.metadata\n",
      "  Using cached referencing-0.30.2-py3-none-any.whl.metadata (2.6 kB)\n",
      "Collecting rpds-py>=0.7.1 (from jsonschema>=3.0->altair<6.0,>=4.2.0->gradio)\n",
      "  Obtaining dependency information for rpds-py>=0.7.1 from https://files.pythonhosted.org/packages/f4/88/677e86159dcc4eb15a0553f08d99dec2d62c535e769aa42145a23e96eb36/rpds_py-0.10.4-cp311-none-win_amd64.whl.metadata\n",
      "  Using cached rpds_py-0.10.4-cp311-none-win_amd64.whl.metadata (3.8 kB)\n",
      "Requirement already satisfied: six>=1.5 in d:\\users\\asvar\\hedge-fund-tracking-13f-automation\\.env\\lib\\site-packages (from python-dateutil>=2.7->matplotlib~=3.0->gradio) (1.16.0)\n",
      "Downloading gradio-3.47.1-py3-none-any.whl (20.3 MB)\n",
      "   ---------------------------------------- 0.0/20.3 MB ? eta -:--:--\n",
      "   - -------------------------------------- 1.0/20.3 MB 20.5 MB/s eta 0:00:02\n",
      "   ------- -------------------------------- 4.0/20.3 MB 31.5 MB/s eta 0:00:01\n",
      "   ----------- ---------------------------- 6.1/20.3 MB 35.3 MB/s eta 0:00:01\n",
      "   --------------- ------------------------ 7.8/20.3 MB 38.4 MB/s eta 0:00:01\n",
      "   ------------------ --------------------- 9.2/20.3 MB 36.9 MB/s eta 0:00:01\n",
      "   ---------------------- ----------------- 11.2/20.3 MB 46.9 MB/s eta 0:00:01\n",
      "   ------------------------- -------------- 13.0/20.3 MB 40.9 MB/s eta 0:00:01\n",
      "   ----------------------------- ---------- 14.7/20.3 MB 40.9 MB/s eta 0:00:01\n",
      "   -------------------------------- ------- 16.6/20.3 MB 40.9 MB/s eta 0:00:01\n",
      "   ----------------------------------- ---- 18.1/20.3 MB 40.9 MB/s eta 0:00:01\n",
      "   ---------------------------------------  19.9/20.3 MB 43.5 MB/s eta 0:00:01\n",
      "   ---------------------------------------  20.3/20.3 MB 43.7 MB/s eta 0:00:01\n",
      "   ---------------------------------------  20.3/20.3 MB 43.7 MB/s eta 0:00:01\n",
      "   ---------------------------------------  20.3/20.3 MB 43.7 MB/s eta 0:00:01\n",
      "   ---------------------------------------  20.3/20.3 MB 43.7 MB/s eta 0:00:01\n",
      "   ---------------------------------------  20.3/20.3 MB 43.7 MB/s eta 0:00:01\n",
      "   ---------------------------------------  20.3/20.3 MB 43.7 MB/s eta 0:00:01\n",
      "   ---------------------------------------  20.3/20.3 MB 43.7 MB/s eta 0:00:01\n",
      "   ---------------------------------------  20.3/20.3 MB 43.7 MB/s eta 0:00:01\n",
      "   ---------------------------------------  20.3/20.3 MB 43.7 MB/s eta 0:00:01\n",
      "   ---------------------------------------  20.3/20.3 MB 43.7 MB/s eta 0:00:01\n",
      "   ---------------------------------------  20.3/20.3 MB 43.7 MB/s eta 0:00:01\n",
      "   ---------------------------------------  20.3/20.3 MB 43.7 MB/s eta 0:00:01\n",
      "   ---------------------------------------  20.3/20.3 MB 43.7 MB/s eta 0:00:01\n",
      "   ---------------------------------------  20.3/20.3 MB 43.7 MB/s eta 0:00:01\n",
      "   ---------------------------------------- 20.3/20.3 MB 11.3 MB/s eta 0:00:00\n",
      "Downloading gradio_client-0.6.0-py3-none-any.whl (298 kB)\n",
      "   ---------------------------------------- 0.0/298.8 kB ? eta -:--:--\n",
      "   ---------------------------------------- 298.8/298.8 kB 9.0 MB/s eta 0:00:00\n",
      "Using cached aiofiles-23.2.1-py3-none-any.whl (15 kB)\n",
      "Using cached altair-5.1.2-py3-none-any.whl (516 kB)\n",
      "Using cached importlib_resources-6.1.0-py3-none-any.whl (33 kB)\n",
      "Using cached matplotlib-3.8.0-cp311-cp311-win_amd64.whl (7.6 MB)\n",
      "Using cached orjson-3.9.7-cp311-none-win_amd64.whl (134 kB)\n",
      "Using cached Pillow-10.0.1-cp311-cp311-win_amd64.whl (2.5 MB)\n",
      "Using cached pydantic-2.4.2-py3-none-any.whl (395 kB)\n",
      "Using cached pydantic_core-2.10.1-cp311-none-win_amd64.whl (2.0 MB)\n",
      "Using cached uvicorn-0.23.2-py3-none-any.whl (59 kB)\n",
      "Using cached fastapi-0.103.2-py3-none-any.whl (66 kB)\n",
      "Using cached httpx-0.25.0-py3-none-any.whl (75 kB)\n",
      "Downloading annotated_types-0.6.0-py3-none-any.whl (12 kB)\n",
      "Using cached anyio-3.7.1-py3-none-any.whl (80 kB)\n",
      "Using cached click-8.1.7-py3-none-any.whl (97 kB)\n",
      "Using cached contourpy-1.1.1-cp311-cp311-win_amd64.whl (480 kB)\n",
      "Using cached cycler-0.12.0-py3-none-any.whl (8.2 kB)\n",
      "Downloading fonttools-4.43.1-cp311-cp311-win_amd64.whl (2.1 MB)\n",
      "   ---------------------------------------- 0.0/2.1 MB ? eta -:--:--\n",
      "   ----------------------------------- ---- 1.9/2.1 MB 61.4 MB/s eta 0:00:01\n",
      "   ---------------------------------------- 2.1/2.1 MB 34.4 MB/s eta 0:00:00\n",
      "Using cached httpcore-0.18.0-py3-none-any.whl (76 kB)\n",
      "Using cached jsonschema-4.19.1-py3-none-any.whl (83 kB)\n",
      "Using cached kiwisolver-1.4.5-cp311-cp311-win_amd64.whl (56 kB)\n",
      "Using cached pyparsing-3.1.1-py3-none-any.whl (103 kB)\n",
      "Using cached starlette-0.27.0-py3-none-any.whl (66 kB)\n",
      "Using cached jsonschema_specifications-2023.7.1-py3-none-any.whl (17 kB)\n",
      "Using cached referencing-0.30.2-py3-none-any.whl (25 kB)\n",
      "Using cached rpds_py-0.10.4-cp311-none-win_amd64.whl (186 kB)\n",
      "Installing collected packages: pydub, ffmpy, websockets, toolz, sniffio, semantic-version, rpds-py, python-multipart, pyparsing, pydantic-core, pillow, orjson, kiwisolver, importlib-resources, h11, fonttools, cycler, contourpy, click, annotated-types, aiofiles, uvicorn, referencing, pydantic, matplotlib, anyio, starlette, jsonschema-specifications, httpcore, jsonschema, httpx, fastapi, gradio-client, altair, gradio\n",
      "Successfully installed aiofiles-23.2.1 altair-5.1.2 annotated-types-0.6.0 anyio-3.7.1 click-8.1.7 contourpy-1.1.1 cycler-0.12.0 fastapi-0.103.2 ffmpy-0.3.1 fonttools-4.43.1 gradio-3.47.1 gradio-client-0.6.0 h11-0.14.0 httpcore-0.18.0 httpx-0.25.0 importlib-resources-6.1.0 jsonschema-4.19.1 jsonschema-specifications-2023.7.1 kiwisolver-1.4.5 matplotlib-3.8.0 orjson-3.9.7 pillow-10.0.1 pydantic-2.4.2 pydantic-core-2.10.1 pydub-0.25.1 pyparsing-3.1.1 python-multipart-0.0.6 referencing-0.30.2 rpds-py-0.10.4 semantic-version-2.10.0 sniffio-1.3.0 starlette-0.27.0 toolz-0.12.0 uvicorn-0.23.2 websockets-11.0.3\n",
      "Note: you may need to restart the kernel to use updated packages.\n"
     ]
    }
   ],
   "source": [
    "%pip install datasets evaluate transformers[sentencepiece]\n",
    "%pip install gradio"
   ]
  },
  {
   "cell_type": "code",
   "execution_count": 3,
   "metadata": {},
   "outputs": [
    {
     "name": "stdout",
     "output_type": "stream",
     "text": [
      "Running on local URL:  http://127.0.0.1:7860\n",
      "\n",
      "To create a public link, set `share=True` in `launch()`.\n"
     ]
    },
    {
     "data": {
      "text/html": [
       "<div><iframe src=\"http://127.0.0.1:7860/\" width=\"100%\" height=\"500\" allow=\"autoplay; camera; microphone; clipboard-read; clipboard-write;\" frameborder=\"0\" allowfullscreen></iframe></div>"
      ],
      "text/plain": [
       "<IPython.core.display.HTML object>"
      ]
     },
     "metadata": {},
     "output_type": "display_data"
    },
    {
     "data": {
      "text/plain": []
     },
     "execution_count": 3,
     "metadata": {},
     "output_type": "execute_result"
    }
   ],
   "source": [
    "# Example - a simple gradio interface that copies the text input to output text box.\n",
    "import gradio as gr\n",
    "\n",
    "def text_summarizer(inp):\n",
    "    return inp\n",
    "\n",
    "demo = gr.Interface(fn=text_summarizer, inputs=\"text\", outputs=\"text\")\n",
    "demo.launch()"
   ]
  },
  {
   "cell_type": "code",
   "execution_count": 4,
   "metadata": {},
   "outputs": [
    {
     "name": "stdout",
     "output_type": "stream",
     "text": [
      "Running on local URL:  http://127.0.0.1:7861\n",
      "\n",
      "To create a public link, set `share=True` in `launch()`.\n"
     ]
    },
    {
     "data": {
      "text/html": [
       "<div><iframe src=\"http://127.0.0.1:7861/\" width=\"100%\" height=\"500\" allow=\"autoplay; camera; microphone; clipboard-read; clipboard-write;\" frameborder=\"0\" allowfullscreen></iframe></div>"
      ],
      "text/plain": [
       "<IPython.core.display.HTML object>"
      ]
     },
     "metadata": {},
     "output_type": "display_data"
    },
    {
     "data": {
      "text/plain": []
     },
     "execution_count": 4,
     "metadata": {},
     "output_type": "execute_result"
    }
   ],
   "source": [
    "# Example - a simple gradio interface that uses the default summarization pipeline\n",
    "import gradio as gr\n",
    "from transformers import pipeline\n",
    "\n",
    "def text_summarizer(inp):\n",
    "    return pipeline(\"summarization\")(inp)[0][\"summary_text\"]\n",
    "\n",
    "demo = gr.Interface(fn=text_summarizer, inputs=\"text\", outputs=\"text\")\n",
    "demo.launch()\n"
   ]
  },
  {
   "cell_type": "code",
   "execution_count": 5,
   "metadata": {},
   "outputs": [
    {
     "data": {
      "application/vnd.jupyter.widget-view+json": {
       "model_id": "ed3d99cda6964cb290ea1414ceb4c35c",
       "version_major": 2,
       "version_minor": 0
      },
      "text/plain": [
       "Downloading (…)lve/main/config.json:   0%|          | 0.00/802 [00:00<?, ?B/s]"
      ]
     },
     "metadata": {},
     "output_type": "display_data"
    },
    {
     "name": "stderr",
     "output_type": "stream",
     "text": [
      "d:\\Users\\asvar\\HEDGE-FUND-TRACKING-13F-Automation\\.env\\Lib\\site-packages\\huggingface_hub\\file_download.py:137: UserWarning: `huggingface_hub` cache-system uses symlinks by default to efficiently store duplicated files but your machine does not support them in C:\\Users\\asvar\\.cache\\huggingface\\hub. Caching files will still work but in a degraded version that might require more space on your disk. This warning can be disabled by setting the `HF_HUB_DISABLE_SYMLINKS_WARNING` environment variable. For more details, see https://huggingface.co/docs/huggingface_hub/how-to-cache#limitations.\n",
      "To support symlinks on Windows, you either need to activate Developer Mode or to run Python as an administrator. In order to see activate developer mode, see this article: https://docs.microsoft.com/en-us/windows/apps/get-started/enable-your-device-for-development\n",
      "  warnings.warn(message)\n"
     ]
    },
    {
     "data": {
      "application/vnd.jupyter.widget-view+json": {
       "model_id": "981d4a1d26d8459bbf4f042b0b169a86",
       "version_major": 2,
       "version_minor": 0
      },
      "text/plain": [
       "Downloading pytorch_model.bin:   0%|          | 0.00/1.20G [00:00<?, ?B/s]"
      ]
     },
     "metadata": {},
     "output_type": "display_data"
    },
    {
     "data": {
      "application/vnd.jupyter.widget-view+json": {
       "model_id": "4aa03976c01a43deb98d59d8e3319129",
       "version_major": 2,
       "version_minor": 0
      },
      "text/plain": [
       "Downloading (…)neration_config.json:   0%|          | 0.00/112 [00:00<?, ?B/s]"
      ]
     },
     "metadata": {},
     "output_type": "display_data"
    },
    {
     "data": {
      "application/vnd.jupyter.widget-view+json": {
       "model_id": "e4e5f6e0c0e64207953409dbe67c4c59",
       "version_major": 2,
       "version_minor": 0
      },
      "text/plain": [
       "Downloading (…)okenizer_config.json:   0%|          | 0.00/824 [00:00<?, ?B/s]"
      ]
     },
     "metadata": {},
     "output_type": "display_data"
    },
    {
     "data": {
      "application/vnd.jupyter.widget-view+json": {
       "model_id": "39247338df9f422b89a7918dea5034f7",
       "version_major": 2,
       "version_minor": 0
      },
      "text/plain": [
       "Downloading spiece.model:   0%|          | 0.00/4.31M [00:00<?, ?B/s]"
      ]
     },
     "metadata": {},
     "output_type": "display_data"
    },
    {
     "data": {
      "application/vnd.jupyter.widget-view+json": {
       "model_id": "0bc8d8be5bef4808bc703e4e1b0ffdb2",
       "version_major": 2,
       "version_minor": 0
      },
      "text/plain": [
       "Downloading tokenizer.json:   0%|          | 0.00/16.3M [00:00<?, ?B/s]"
      ]
     },
     "metadata": {},
     "output_type": "display_data"
    },
    {
     "data": {
      "application/vnd.jupyter.widget-view+json": {
       "model_id": "dc0c15bb533e4a3ba2e61df8f44c0f49",
       "version_major": 2,
       "version_minor": 0
      },
      "text/plain": [
       "Downloading (…)in/added_tokens.json:   0%|          | 0.00/44.0 [00:00<?, ?B/s]"
      ]
     },
     "metadata": {},
     "output_type": "display_data"
    },
    {
     "data": {
      "application/vnd.jupyter.widget-view+json": {
       "model_id": "f9561b616a6043aaab6b6d9c3f21bb2c",
       "version_major": 2,
       "version_minor": 0
      },
      "text/plain": [
       "Downloading (…)cial_tokens_map.json:   0%|          | 0.00/74.0 [00:00<?, ?B/s]"
      ]
     },
     "metadata": {},
     "output_type": "display_data"
    },
    {
     "data": {
      "text/plain": [
       "'\"David Einhorn’s 13F portfolio value stood at $2.13B this quarter. Greenlight Capital added Net Power Inc. (NPWR), and First Horizon Corp. They together account for ~16% of the portfolio.\"'"
      ]
     },
     "execution_count": 5,
     "metadata": {},
     "output_type": "execute_result"
    }
   ],
   "source": [
    "# Example Usage: The fine-tuned \"jkv53/mt5-small-finetuned-13f-reports\" used in a summarization pipeline.\n",
    "from transformers import pipeline\n",
    "\n",
    "hub_model_id = \"jkv53/mt5-small-finetuned-13f-reports\"\n",
    "summarizer = pipeline(\"summarization\", model=hub_model_id, max_length=120) \n",
    "summarizer(\n",
    "    \"\"\"\n",
    "    This article is part of a series that provides an ongoing analysis of the changes made to David Einhorn’s Greenlight Capital 13F portfolio on a quarterly basis. It is based on Einhorn’s regulatory 13F Form filed on 8/14/2023. Please visit our Tracking David Einhorn's Greenlight Capital Holdings article series for an idea on his investment philosophy and our previous update for the fund’s moves during Q1 2023.\n",
    "\n",
    "Greenlight Capital’s 13F portfolio value stood at $2.13B this quarter. It is up ~16% compared to $1.84B as of last quarter. Einhorn’s Q2 2023 letter reported that the fund returned 14.5% for Q2 2023 vs 8.7% for the S&P 500 Index.  Since 1996 inception, Greenlight has returned ~12.6% annualized vs 9.1% annualized for S&P 500 index. In addition to partner stakes, the fund also invests the float of Greenlight Capital RE (GLRE). To learn about David Einhorn and the perils of shorting, check-out his “Fooling Some of the People All of the Time, A Long Short (and Now Complete) Story”.\n",
    "\n",
    "\n",
    "New Stakes:\n",
    "\n",
    "\n",
    "Net Power Inc. (NPWR): NPWR is a 1.53% of the portfolio position purchased this quarter at a cost-basis of $10.10 per share. The stock currently trades at $15.58.\n",
    "\n",
    "Activision Blizzard (ATVI), First Horizon Corp (FHC), and Seadrill Ltd. (SDRL): These are very small (less than ~1% of the portfolio each) new stakes established this quarter.\n",
    "    \"\"\"\n",
    ")[0][\"summary_text\"]\n"
   ]
  },
  {
   "cell_type": "code",
   "execution_count": 6,
   "metadata": {},
   "outputs": [
    {
     "name": "stdout",
     "output_type": "stream",
     "text": [
      "Running on local URL:  http://127.0.0.1:7862\n",
      "\n",
      "To create a public link, set `share=True` in `launch()`.\n"
     ]
    },
    {
     "data": {
      "text/html": [
       "<div><iframe src=\"http://127.0.0.1:7862/\" width=\"100%\" height=\"500\" allow=\"autoplay; camera; microphone; clipboard-read; clipboard-write;\" frameborder=\"0\" allowfullscreen></iframe></div>"
      ],
      "text/plain": [
       "<IPython.core.display.HTML object>"
      ]
     },
     "metadata": {},
     "output_type": "display_data"
    },
    {
     "data": {
      "text/plain": []
     },
     "execution_count": 6,
     "metadata": {},
     "output_type": "execute_result"
    }
   ],
   "source": [
    "# GRADIO UI FOR 13F REPORT SUMMARY GENERATION:\n",
    "import gradio as gr\n",
    "from transformers import pipeline\n",
    "\n",
    "def text_summarizer(inp):\n",
    "    hub_model_id = \"jkv53/mt5-small-finetuned-13f-reports\"\n",
    "    return pipeline(\"summarization\", model=hub_model_id, max_length=120)(inp)[0][\"summary_text\"]\n",
    "\n",
    "demo = gr.Interface(fn=text_summarizer, inputs=\"text\", outputs=\"text\")\n",
    "demo.launch()\n"
   ]
  }
 ],
 "metadata": {
  "kernelspec": {
   "display_name": ".env",
   "language": "python",
   "name": "python3"
  },
  "language_info": {
   "codemirror_mode": {
    "name": "ipython",
    "version": 3
   },
   "file_extension": ".py",
   "mimetype": "text/x-python",
   "name": "python",
   "nbconvert_exporter": "python",
   "pygments_lexer": "ipython3",
   "version": "3.11.5"
  }
 },
 "nbformat": 4,
 "nbformat_minor": 2
}
